{
 "cells": [
  {
   "cell_type": "code",
   "execution_count": 1,
   "metadata": {},
   "outputs": [
    {
     "name": "stderr",
     "output_type": "stream",
     "text": [
      "/home/ubuntu/anaconda2/envs/fashion/lib/python3.6/site-packages/h5py/__init__.py:36: FutureWarning: Conversion of the second argument of issubdtype from `float` to `np.floating` is deprecated. In future, it will be treated as `np.float64 == np.dtype(float).type`.\n",
      "  from ._conv import register_converters as _register_converters\n",
      "Using TensorFlow backend.\n"
     ]
    }
   ],
   "source": [
    "import json\n",
    "from itertools import chain\n",
    "from math import ceil\n",
    "\n",
    "from keras.preprocessing.image import ImageDataGenerator\n",
    "import numpy as np\n",
    "import pandas as pd\n",
    "from sklearn.preprocessing import MultiLabelBinarizer"
   ]
  },
  {
   "cell_type": "code",
   "execution_count": 2,
   "metadata": {},
   "outputs": [],
   "source": [
    "from keras.applications.resnet50 import ResNet50\n",
    "from keras import losses\n",
    "from keras.layers import Flatten, Dense, Dropout\n",
    "from keras.layers.normalization import BatchNormalization"
   ]
  },
  {
   "cell_type": "code",
   "execution_count": 3,
   "metadata": {},
   "outputs": [],
   "source": [
    "from keras import Model\n",
    "from sklearn.model_selection import train_test_split"
   ]
  },
  {
   "cell_type": "code",
   "execution_count": 4,
   "metadata": {},
   "outputs": [],
   "source": [
    "from keras.callbacks import EarlyStopping\n",
    "from keras.callbacks import ModelCheckpoint"
   ]
  },
  {
   "cell_type": "markdown",
   "metadata": {},
   "source": [
    "## Load ResNet model"
   ]
  },
  {
   "cell_type": "code",
   "execution_count": 5,
   "metadata": {},
   "outputs": [],
   "source": [
    "base_model = ResNet50(weights='imagenet', include_top = False, input_shape=(224, 224, 3))"
   ]
  },
  {
   "cell_type": "code",
   "execution_count": 14,
   "metadata": {},
   "outputs": [],
   "source": [
    "# print(base_model.summary())"
   ]
  },
  {
   "cell_type": "code",
   "execution_count": 15,
   "metadata": {},
   "outputs": [],
   "source": [
    "label_count=227"
   ]
  },
  {
   "cell_type": "code",
   "execution_count": 16,
   "metadata": {},
   "outputs": [],
   "source": [
    "x = Flatten()(base_model.output)\n",
    "x = Dense(4096, activation='relu')(x)\n",
    "x = Dropout(0.5)(x)\n",
    "x = BatchNormalization()(x)\n",
    "predictions = Dense(label_count, activation = 'sigmoid')(x)"
   ]
  },
  {
   "cell_type": "code",
   "execution_count": 17,
   "metadata": {},
   "outputs": [
    {
     "name": "stderr",
     "output_type": "stream",
     "text": [
      "/home/ubuntu/anaconda2/envs/fashion/lib/python3.6/site-packages/ipykernel/__main__.py:1: UserWarning: Update your `Model` call to the Keras 2 API: `Model(inputs=Tensor(\"in..., outputs=Tensor(\"de...)`\n",
      "  if __name__ == '__main__':\n"
     ]
    }
   ],
   "source": [
    "head_model = Model(input = base_model.input, output = predictions)"
   ]
  },
  {
   "cell_type": "code",
   "execution_count": 18,
   "metadata": {},
   "outputs": [],
   "source": [
    "head_model.load_weights('results/best_weights.hdf5')"
   ]
  },
  {
   "cell_type": "code",
   "execution_count": 19,
   "metadata": {},
   "outputs": [],
   "source": [
    "head_model.compile(optimizer='adam', loss='binary_crossentropy', metrics=['accuracy'])"
   ]
  },
  {
   "cell_type": "code",
   "execution_count": 20,
   "metadata": {},
   "outputs": [
    {
     "data": {
      "text/plain": [
       "(None, 227)"
      ]
     },
     "execution_count": 20,
     "metadata": {},
     "output_type": "execute_result"
    }
   ],
   "source": [
    "head_model.output_shape"
   ]
  },
  {
   "cell_type": "markdown",
   "metadata": {},
   "source": [
    "## Go through test images and predict"
   ]
  },
  {
   "cell_type": "code",
   "execution_count": 36,
   "metadata": {},
   "outputs": [
    {
     "name": "stdout",
     "output_type": "stream",
     "text": [
      "Found 39706 images belonging to 1 classes.\n"
     ]
    }
   ],
   "source": [
    "batch_size = 100\n",
    "gen_test = ImageDataGenerator().flow_from_directory('images_test',\n",
    "                                                    target_size=(224, 224),\n",
    "                                                    class_mode=None, \n",
    "                                                    shuffle=False,\n",
    "                                                    batch_size=batch_size)\n",
    "num_images_test = len(gen_test.filenames)"
   ]
  },
  {
   "cell_type": "code",
   "execution_count": 37,
   "metadata": {},
   "outputs": [
    {
     "data": {
      "text/plain": [
       "(39706,)"
      ]
     },
     "execution_count": 37,
     "metadata": {},
     "output_type": "execute_result"
    }
   ],
   "source": [
    "img_ids_test_all = np.array([int(fn[5:-4]) for fn in gen_test.filenames])\n",
    "img_ids_test_all.shape"
   ]
  },
  {
   "cell_type": "markdown",
   "metadata": {},
   "source": [
    "### first 1k"
   ]
  },
  {
   "cell_type": "code",
   "execution_count": 56,
   "metadata": {},
   "outputs": [],
   "source": [
    "test_chunks = []\n",
    "test_id_chunks = []"
   ]
  },
  {
   "cell_type": "code",
   "execution_count": 57,
   "metadata": {},
   "outputs": [],
   "source": [
    "num_images_test = 1000\n",
    "\n",
    "start_batch = 0\n",
    "batches = []\n",
    "for i in range(ceil(num_images_test / gen_test.batch_size)):\n",
    "    batches.append(gen_test.next())\n",
    "    \n",
    "img_arrays_test = np.array(list(chain(*batches)))\n",
    "del batches\n",
    "img_arrays_test = img_arrays_test[:num_images_test]\n",
    "\n",
    "test_chunks.append(img_arrays_test)\n"
   ]
  },
  {
   "cell_type": "code",
   "execution_count": 58,
   "metadata": {},
   "outputs": [
    {
     "data": {
      "text/plain": [
       "9"
      ]
     },
     "execution_count": 58,
     "metadata": {},
     "output_type": "execute_result"
    }
   ],
   "source": [
    "i"
   ]
  },
  {
   "cell_type": "code",
   "execution_count": 60,
   "metadata": {},
   "outputs": [],
   "source": [
    "test_id_chunks.append(\n",
    "    img_ids_test_all[start_batch * batch_size: \n",
    "                     start_batch * batch_size + num_images_test]\n",
    ")\n"
   ]
  },
  {
   "cell_type": "code",
   "execution_count": 61,
   "metadata": {},
   "outputs": [
    {
     "data": {
      "text/plain": [
       "[array([    1,    10,   100,  1000, 10000, 10001, 10002, 10003, 10004,\n",
       "        10005, 10006, 10007, 10008, 10009,  1001, 10010, 10011, 10012,\n",
       "        10013, 10014, 10015, 10016, 10017, 10018, 10019,  1002, 10020,\n",
       "        10021, 10022, 10023, 10024, 10025, 10026, 10027, 10028, 10029,\n",
       "         1003, 10030, 10031, 10032, 10033, 10034, 10035, 10036, 10037,\n",
       "        10038, 10039,  1004, 10040, 10041, 10042, 10043, 10044, 10045,\n",
       "        10046, 10047, 10048, 10049,  1005, 10050, 10051, 10052, 10053,\n",
       "        10054, 10055, 10056, 10057, 10058, 10059,  1006, 10060, 10061,\n",
       "        10062, 10063, 10064, 10065, 10066, 10067, 10068, 10069,  1007,\n",
       "        10070, 10071, 10072, 10073, 10074, 10075, 10076, 10077, 10078,\n",
       "        10079,  1008, 10080, 10081, 10082, 10083, 10084, 10085, 10086,\n",
       "        10087, 10088, 10089,  1009, 10090, 10091, 10092, 10093, 10094,\n",
       "        10095, 10096, 10097, 10098, 10099,   101,  1010, 10100, 10101,\n",
       "        10102, 10103, 10104, 10105, 10106, 10107, 10108, 10109,  1011,\n",
       "        10110, 10111, 10112, 10113, 10114, 10115, 10116, 10117, 10118,\n",
       "        10119,  1012, 10120, 10121, 10122, 10123, 10124, 10125, 10126,\n",
       "        10127, 10128, 10129,  1013, 10130, 10131, 10132, 10133, 10134,\n",
       "        10135, 10136, 10137, 10138, 10139,  1014, 10140, 10141, 10142,\n",
       "        10143, 10144, 10145, 10146, 10147, 10148, 10149,  1015, 10150,\n",
       "        10151, 10152, 10153, 10154, 10155, 10156, 10157, 10158, 10159,\n",
       "         1016, 10160, 10161, 10162, 10163, 10164, 10165, 10166, 10167,\n",
       "        10168, 10169,  1017, 10170, 10171, 10172, 10173, 10174, 10175,\n",
       "        10176, 10177, 10178, 10179,  1018, 10180, 10181, 10182, 10183,\n",
       "        10184, 10185, 10186, 10187, 10188, 10189,  1019, 10190, 10191,\n",
       "        10192, 10193, 10194, 10195, 10196, 10197, 10198, 10199,   102,\n",
       "         1020, 10200, 10201, 10202, 10203, 10204, 10205, 10206, 10207,\n",
       "        10208, 10209,  1021, 10210, 10211, 10212, 10213, 10214, 10215,\n",
       "        10216, 10217, 10218, 10219,  1022, 10220, 10221, 10222, 10223,\n",
       "        10224, 10225, 10226, 10227, 10228, 10229,  1023, 10230, 10231,\n",
       "        10232, 10233, 10234, 10235, 10236, 10237, 10238, 10239,  1024,\n",
       "        10240, 10241, 10242, 10243, 10244, 10245, 10246, 10247, 10248,\n",
       "        10249,  1025, 10250, 10251, 10252, 10253, 10254, 10255, 10256,\n",
       "        10257, 10258, 10259,  1026, 10260, 10261, 10262, 10263, 10264,\n",
       "        10265, 10266, 10267, 10268, 10269,  1027, 10270, 10271, 10272,\n",
       "        10273, 10274, 10275, 10276, 10277, 10278, 10279,  1028, 10280,\n",
       "        10281, 10282, 10283, 10284, 10285, 10286, 10287, 10288, 10289,\n",
       "         1029, 10290, 10291, 10292, 10293, 10294, 10295, 10296, 10297,\n",
       "        10298, 10299,   103,  1030, 10300, 10301, 10302, 10303, 10304,\n",
       "        10305, 10306, 10307, 10308, 10309,  1031, 10310, 10311, 10312,\n",
       "        10313, 10314, 10315, 10316, 10317, 10318, 10319,  1032, 10320,\n",
       "        10321, 10322, 10323, 10324, 10325, 10326, 10327, 10328, 10329,\n",
       "         1033, 10330, 10331, 10332, 10333, 10334, 10335, 10336, 10337,\n",
       "        10338, 10339,  1034, 10340, 10341, 10342, 10343, 10344, 10345,\n",
       "        10346, 10347, 10348, 10349,  1035, 10350, 10351, 10352, 10353,\n",
       "        10354, 10355, 10356, 10357, 10358, 10359,  1036, 10360, 10361,\n",
       "        10362, 10363, 10364, 10365, 10366, 10367, 10368, 10369,  1037,\n",
       "        10370, 10371, 10372, 10373, 10374, 10375, 10376, 10377, 10378,\n",
       "        10379,  1038, 10380, 10381, 10382, 10383, 10384, 10385, 10386,\n",
       "        10387, 10388, 10389,  1039, 10390, 10391, 10392, 10393, 10394,\n",
       "        10395, 10396, 10397, 10398, 10399,   104,  1040, 10400, 10401,\n",
       "        10402, 10403, 10404, 10405, 10406, 10407, 10408, 10409,  1041,\n",
       "        10410, 10411, 10412, 10413, 10414, 10415, 10416, 10417, 10418,\n",
       "        10419,  1042, 10420, 10421, 10422, 10423, 10424, 10425, 10426,\n",
       "        10427, 10428, 10429,  1043, 10430, 10431, 10432, 10433, 10434,\n",
       "        10435, 10436, 10437, 10438, 10439,  1044, 10440, 10441, 10442,\n",
       "        10443, 10444, 10445, 10446, 10447, 10448, 10449,  1045, 10450,\n",
       "        10451, 10452, 10453, 10454, 10455, 10456, 10457, 10458, 10459,\n",
       "         1046, 10460, 10461, 10462, 10463, 10464, 10465, 10466, 10467,\n",
       "        10468, 10469,  1047, 10470, 10471, 10472, 10473, 10474, 10475,\n",
       "        10476, 10477, 10478, 10479,  1048, 10480, 10481, 10482, 10483,\n",
       "        10484, 10485, 10486, 10487, 10488, 10489,  1049, 10490, 10491,\n",
       "        10492, 10493, 10494, 10495, 10496, 10497, 10498, 10499,   105,\n",
       "         1050, 10500, 10501, 10502, 10503, 10504, 10505, 10506, 10507,\n",
       "        10508, 10509,  1051, 10510, 10511, 10512, 10513, 10514, 10515,\n",
       "        10516, 10517, 10518, 10519,  1052, 10520, 10521, 10522, 10523,\n",
       "        10524, 10525, 10526, 10527, 10528, 10529,  1053, 10530, 10531,\n",
       "        10532, 10533, 10534, 10535, 10536, 10537, 10538, 10539,  1054,\n",
       "        10540, 10541, 10542, 10543, 10544, 10545, 10546, 10547, 10548,\n",
       "        10549,  1055, 10550, 10551, 10552, 10553, 10554, 10555, 10556,\n",
       "        10557, 10558, 10559,  1056, 10560, 10561, 10562, 10563, 10564,\n",
       "        10565, 10566, 10567, 10568, 10569,  1057, 10570, 10571, 10572,\n",
       "        10573, 10574, 10575, 10576, 10577, 10578, 10579,  1058, 10580,\n",
       "        10581, 10582, 10583, 10584, 10585, 10586, 10587, 10588, 10589,\n",
       "         1059, 10590, 10591, 10592, 10593, 10594, 10595, 10596, 10597,\n",
       "        10598, 10599,   106,  1060, 10600, 10601, 10602, 10603, 10604,\n",
       "        10605, 10606, 10607, 10608, 10609,  1061, 10610, 10611, 10612,\n",
       "        10613, 10614, 10615, 10616, 10617, 10618, 10619,  1062, 10620,\n",
       "        10621, 10622, 10623, 10624, 10625, 10626, 10627, 10628, 10629,\n",
       "         1063, 10630, 10631, 10632, 10633, 10634, 10635, 10636, 10637,\n",
       "        10638, 10639,  1064, 10640, 10641, 10642, 10643, 10644, 10645,\n",
       "        10646, 10647, 10648, 10649,  1065, 10650, 10651, 10652, 10653,\n",
       "        10654, 10655, 10656, 10657, 10658, 10659,  1066, 10660, 10661,\n",
       "        10662, 10663, 10664, 10665, 10666, 10667, 10668, 10669,  1067,\n",
       "        10670, 10671, 10672, 10673, 10674, 10675, 10676, 10677, 10678,\n",
       "        10679,  1068, 10680, 10681, 10682, 10683, 10684, 10685, 10686,\n",
       "        10687, 10688, 10689,  1069, 10690, 10691, 10692, 10693, 10694,\n",
       "        10695, 10696, 10697, 10698, 10699,   107,  1070, 10700, 10701,\n",
       "        10702, 10703, 10704, 10705, 10706, 10707, 10708, 10709,  1071,\n",
       "        10710, 10711, 10712, 10713, 10714, 10715, 10716, 10717, 10718,\n",
       "        10719,  1072, 10720, 10721, 10722, 10723, 10724, 10725, 10726,\n",
       "        10727, 10728, 10729,  1073, 10730, 10731, 10732, 10733, 10734,\n",
       "        10735, 10736, 10737, 10738, 10739,  1074, 10740, 10741, 10742,\n",
       "        10743, 10744, 10745, 10746, 10747, 10748, 10749,  1075, 10750,\n",
       "        10751, 10752, 10753, 10754, 10755, 10756, 10757, 10758, 10759,\n",
       "         1076, 10760, 10761, 10762, 10763, 10764, 10765, 10766, 10767,\n",
       "        10768, 10769,  1077, 10770, 10771, 10772, 10773, 10774, 10775,\n",
       "        10776, 10777, 10778, 10779,  1078, 10780, 10781, 10782, 10783,\n",
       "        10784, 10785, 10786, 10787, 10788, 10789,  1079, 10790, 10791,\n",
       "        10792, 10793, 10794, 10795, 10796, 10797, 10798, 10799,   108,\n",
       "         1080, 10800, 10801, 10802, 10803, 10804, 10805, 10806, 10807,\n",
       "        10808, 10809,  1081, 10810, 10811, 10812, 10813, 10814, 10815,\n",
       "        10816, 10817, 10818, 10819,  1082, 10820, 10821, 10822, 10823,\n",
       "        10824, 10825, 10826, 10827, 10828, 10829,  1083, 10830, 10831,\n",
       "        10832, 10833, 10834, 10835, 10836, 10837, 10838, 10839,  1084,\n",
       "        10840, 10841, 10842, 10843, 10844, 10845, 10846, 10847, 10848,\n",
       "        10849,  1085, 10850, 10851, 10852, 10853, 10854, 10855, 10856,\n",
       "        10857, 10858, 10859,  1086, 10860, 10861, 10862, 10863, 10864,\n",
       "        10865, 10866, 10867, 10868, 10869,  1087, 10870, 10871, 10872,\n",
       "        10873, 10874, 10875, 10876, 10877, 10878, 10879,  1088, 10880,\n",
       "        10881, 10882, 10883, 10884, 10885, 10886, 10887, 10888, 10889,\n",
       "         1089, 10890, 10891, 10892, 10893, 10894, 10895, 10896, 10897,\n",
       "        10898])]"
      ]
     },
     "execution_count": 61,
     "metadata": {},
     "output_type": "execute_result"
    }
   ],
   "source": [
    "test_id_chunks"
   ]
  },
  {
   "cell_type": "code",
   "execution_count": 63,
   "metadata": {},
   "outputs": [],
   "source": [
    "prediction_chunks = []"
   ]
  },
  {
   "cell_type": "code",
   "execution_count": 65,
   "metadata": {},
   "outputs": [
    {
     "name": "stdout",
     "output_type": "stream",
     "text": [
      "CPU times: user 20min 54s, sys: 1min 45s, total: 22min 39s\n",
      "Wall time: 6min 11s\n"
     ]
    }
   ],
   "source": [
    "%%time\n",
    "prediction_chunks.append(head_model.predict(test_chunks[0]))"
   ]
  },
  {
   "cell_type": "code",
   "execution_count": 67,
   "metadata": {},
   "outputs": [
    {
     "data": {
      "text/plain": [
       "(100, 227)"
      ]
     },
     "execution_count": 67,
     "metadata": {},
     "output_type": "execute_result"
    }
   ],
   "source": [
    "prediction_chunks[0].shape"
   ]
  },
  {
   "cell_type": "code",
   "execution_count": null,
   "metadata": {},
   "outputs": [],
   "source": []
  },
  {
   "cell_type": "code",
   "execution_count": null,
   "metadata": {},
   "outputs": [],
   "source": []
  },
  {
   "cell_type": "code",
   "execution_count": null,
   "metadata": {},
   "outputs": [],
   "source": []
  },
  {
   "cell_type": "code",
   "execution_count": null,
   "metadata": {},
   "outputs": [],
   "source": []
  },
  {
   "cell_type": "code",
   "execution_count": null,
   "metadata": {},
   "outputs": [],
   "source": []
  },
  {
   "cell_type": "code",
   "execution_count": null,
   "metadata": {},
   "outputs": [],
   "source": [
    "num_images_test = 1000\n",
    "\n",
    "start_batch = 1\n",
    "batches = []\n",
    "for i in range(ceil(num_images_test / gen_test.batch_size)):\n",
    "    batches.append(gen_test.next())\n",
    "    \n",
    "img_arrays_test = np.array(list(chain(*batches)))\n",
    "del batches\n",
    "img_arrays_test = img_arrays_test[:num_images_test]\n",
    "\n",
    "test_chunks.append(img_arrays_test)\n"
   ]
  },
  {
   "cell_type": "code",
   "execution_count": null,
   "metadata": {},
   "outputs": [],
   "source": []
  }
 ],
 "metadata": {
  "anaconda-cloud": {},
  "kernelspec": {
   "display_name": "Python [conda env:fashion]",
   "language": "python",
   "name": "conda-env-fashion-py"
  },
  "language_info": {
   "codemirror_mode": {
    "name": "ipython",
    "version": 3
   },
   "file_extension": ".py",
   "mimetype": "text/x-python",
   "name": "python",
   "nbconvert_exporter": "python",
   "pygments_lexer": "ipython3",
   "version": "3.6.4"
  }
 },
 "nbformat": 4,
 "nbformat_minor": 1
}
